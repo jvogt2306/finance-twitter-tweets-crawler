{
 "metadata": {
  "language_info": {
   "codemirror_mode": {
    "name": "ipython",
    "version": 3
   },
   "file_extension": ".py",
   "mimetype": "text/x-python",
   "name": "python",
   "nbconvert_exporter": "python",
   "pygments_lexer": "ipython3",
   "version": "2.7.18"
  },
  "orig_nbformat": 2,
  "kernelspec": {
   "name": "python3",
   "display_name": "Python 3",
   "language": "python"
  },
  "metadata": {
   "interpreter": {
    "hash": "31f2aee4e71d21fbe5cf8b01ff0e069b9275f58929596ceb00d14d90e3e16cd6"
   }
  }
 },
 "nbformat": 4,
 "nbformat_minor": 2,
 "cells": [
  {
   "cell_type": "code",
   "execution_count": null,
   "metadata": {},
   "outputs": [],
   "source": [
    "#Install Development Version of SNScrape\n",
    "!pip3 install git+https://github.com/JustAnotherArchivist/snscrape.git"
   ]
  },
  {
   "cell_type": "code",
   "execution_count": null,
   "metadata": {},
   "outputs": [],
   "source": [
    "import snscrape.modules.twitter as sntwitter\n",
    "import pandas as pd\n",
    "import matplotlib.pyplot as plt\n",
    "from matplotlib.pyplot import figure\n",
    "import numpy as np"
   ]
  },
  {
   "cell_type": "code",
   "execution_count": null,
   "metadata": {
    "tags": []
   },
   "outputs": [],
   "source": [
    "#user = None #add from:{username} in querystr!\n",
    "def get_tweets(query_text,after,before):\n",
    "    response = []\n",
    "    for i,tweet in enumerate(sntwitter.TwitterSearchScraper('{} since:{} until:{}'.format(query_text,after,before)).get_items()):\n",
    "        if i>maxTweets:\n",
    "            break\n",
    "        response.append([tweet.date, tweet.id, tweet.content, tweet.user.username, tweet.replyCount,tweet.likeCount, tweet.retweetCount])\n",
    "    return response"
   ]
  },
  {
   "cell_type": "code",
   "execution_count": null,
   "metadata": {},
   "outputs": [],
   "source": [
    "def plot_frequency_tweet_df(df, title):\n",
    "    counted_df = df.groupby(pd.Grouper(key='Datetime',freq='D')).count()\n",
    "    counted_df.index = counted_df.index.strftime('%m/%d/%Y')\n",
    "    ax = counted_df.plot.bar(y='Tweet Id', width=.85)\n",
    "    ax.set_title('Search with: {}'.format(title))\n",
    "    plt.gcf().subplots_adjust(bottom=0.3)\n",
    "    plt.savefig('tweet_query_{}.png'.format(title), dpi=500)  "
   ]
  },
  {
   "cell_type": "code",
   "execution_count": null,
   "metadata": {},
   "outputs": [],
   "source": [
    "maxTweets = 500000\n",
    "companies = ['@uniper_energy', '@EnelGroup','@ENGIEgroup', '@RWE_AG', '@RWE_Presse','@RWE_UK', '@edfenergy']\n",
    "after = '2019-06-01'\n",
    "before = '2019-07-01'\n",
    "for company in companies:\n",
    "    tweets = get_tweets(company,after,before)\n",
    "    tweets_df = pd.DataFrame(tweets, columns=['Datetime', 'Tweet Id', 'Text', 'Username', 'Reply Count', 'Like Count', 'Retweet Count'])\n",
    "    plot_frequency_tweet_df(tweets_df,company)"
   ]
  }
 ]
}